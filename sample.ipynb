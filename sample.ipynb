{
 "cells": [
  {
   "cell_type": "code",
   "execution_count": 4,
   "metadata": {},
   "outputs": [],
   "source": [
    "import folium\n",
    "map = folium.Map(location=[38.58,-90.09],zoom_start=6,tiles=\"Mapbox Bright\")\n",
    "map.save(\"Map1.html\")\n",
    "\n",
    "fg = folium.FeatureGroup(name=\"My app\")\n",
    "fg.add_child(folium.Marker(location=[38.2,-90.1],popup=\"Hi, I am a Marker\",\n",
    "                            icon=folium.Icon(color=\"green\")))\n",
    "map.add_child(fg)\n",
    "map.save(\"Map3.html\")\n"
   ]
  },
  {
   "cell_type": "code",
   "execution_count": 13,
   "metadata": {},
   "outputs": [],
   "source": [
    "import folium\n",
    "import pandas\n",
    "\n",
    "def produce_color(el):\n",
    "    if el <= 1000:\n",
    "        return \"green\"\n",
    "    elif el <= 3000:\n",
    "        return \"orange\"\n",
    "    else:\n",
    "        return \"red\"\n",
    "\n",
    "data = pandas.read_csv(\"Volcanoes_USA.txt\")\n",
    "#print(data)\n",
    "\n",
    "lat = list(data[\"LAT\"])\n",
    "lon = list(data[\"LON\"])\n",
    "elev = list(data[\"ELEV\"])\n",
    "\n",
    "#print(zip(lat,lon))\n",
    "\n",
    "map = folium.Map(location=[45,-120], zoom_start=6, tiles=\"Mapbox Bright\")\n",
    "fg = folium.FeatureGroup(name=\"My app\")\n",
    "\n",
    "for lt,ln,el in zip(lat,lon,elev):\n",
    "    fg.add_child(folium.Marker(location=[lt,ln],popup=folium.Popup(str(el)+'m elev',parse_html=True),\n",
    "                               icon=folium.Icon(color=produce_color(el))))\n",
    "map.add_child(fg)\n",
    "map.save(\"Map1.html\")\n",
    "    \n"
   ]
  },
  {
   "cell_type": "code",
   "execution_count": 20,
   "metadata": {},
   "outputs": [],
   "source": [
    "import folium\n",
    "import pandas\n",
    "\n",
    "def produce_color(el):\n",
    "    if el <= 1000:\n",
    "        return \"green\"\n",
    "    elif el <= 3000:\n",
    "        return \"orange\"\n",
    "    else:\n",
    "        return \"red\"\n",
    "\n",
    "data = pandas.read_csv(\"Volcanoes_USA.txt\")\n",
    "#print(data)\n",
    "\n",
    "lat = list(data[\"LAT\"])\n",
    "lon = list(data[\"LON\"])\n",
    "elev = list(data[\"ELEV\"])\n",
    "\n",
    "#print(zip(lat,lon))\n",
    "\n",
    "map = folium.Map(location=[45,-120], zoom_start=6, tiles=\"Mapbox Bright\")\n",
    "fg = folium.FeatureGroup(name=\"My app\")\n",
    "\n",
    "for lt,ln,el in zip(lat,lon,elev):\n",
    "    fg.add_child(folium.CircleMarker(location=[lt,ln],popup=folium.Popup(str(el)+'m elev',parse_html=True),\n",
    "                               fill_color=produce_color(el),color='black',fill_opacity=0.7))\n",
    "map.add_child(fg)\n",
    "map.save(\"Map1.html\")\n",
    "    "
   ]
  },
  {
   "cell_type": "code",
   "execution_count": 80,
   "metadata": {
    "scrolled": true
   },
   "outputs": [],
   "source": [
    "import folium\n",
    "import pandas\n",
    "import io\n",
    "\n",
    "def produce_color(el):\n",
    "    if el <= 1000:\n",
    "        return \"green\"\n",
    "    elif el <= 3000:\n",
    "        return \"orange\"\n",
    "    else:\n",
    "        return \"red\"\n",
    "\n",
    "data = pandas.read_csv(\"Volcanoes_USA.txt\")\n",
    "#print(data)\n",
    "\n",
    "lat = list(data[\"LAT\"])\n",
    "lon = list(data[\"LON\"])\n",
    "elev = list(data[\"ELEV\"])\n",
    "\n",
    "#print(zip(lat,lon))\n",
    "\n",
    "map = folium.Map(location=[45,-120], zoom_start=6, tiles=\"Mapbox Bright\")\n",
    "fg = folium.FeatureGroup(name=\"My app\")\n",
    "\n",
    "for lt,ln,el in zip(lat,lon,elev):\n",
    "    fg.add_child(folium.CircleMarker(\n",
    "        location=[lt,ln],popup=folium.Popup(str(el)+'m elev',parse_html=True),\n",
    "        fill_color=produce_color(el),color='black',fill_opacity=0.7))\n",
    "    \n",
    "data = io.open(\"world.json\",\"r\",encoding=\"utf-8-sig\")\n",
    "\n",
    "\n",
    "fg.add_child(\n",
    "    folium.GeoJson(\n",
    "        data.read(),\n",
    "        style_function=lambda x:{'fillColor':'red' if x['properties']['POP2005'] < 1000000 \n",
    "                                 else 'orange'} ))\n",
    "    \n",
    "map.add_child(fg)\n",
    "map.save(\"Map1.html\")"
   ]
  },
  {
   "cell_type": "code",
   "execution_count": 56,
   "metadata": {},
   "outputs": [],
   "source": [
    "#help(folium.GeoJson)"
   ]
  }
 ],
 "metadata": {
  "kernelspec": {
   "display_name": "Python 2",
   "language": "python",
   "name": "python2"
  },
  "language_info": {
   "codemirror_mode": {
    "name": "ipython",
    "version": 2
   },
   "file_extension": ".py",
   "mimetype": "text/x-python",
   "name": "python",
   "nbconvert_exporter": "python",
   "pygments_lexer": "ipython2",
   "version": "2.7.15"
  }
 },
 "nbformat": 4,
 "nbformat_minor": 2
}
